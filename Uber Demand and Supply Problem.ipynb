{
 "cells": [
  {
   "cell_type": "markdown",
   "id": "7c1d8caa",
   "metadata": {},
   "source": [
    "# Uber Demand & Supply Problem"
   ]
  },
  {
   "cell_type": "code",
   "execution_count": 60,
   "id": "1b240659",
   "metadata": {},
   "outputs": [],
   "source": [
    "import warnings\n",
    "warnings.filterwarnings('ignore')"
   ]
  },
  {
   "cell_type": "code",
   "execution_count": 61,
   "id": "e651f6ec",
   "metadata": {},
   "outputs": [],
   "source": [
    "import numpy as np\n",
    "import pandas as pd\n",
    "\n",
    "from matplotlib import pyplot as plt\n",
    "import seaborn as sns"
   ]
  },
  {
   "cell_type": "code",
   "execution_count": 62,
   "id": "22d12ce2",
   "metadata": {},
   "outputs": [
    {
     "data": {
      "text/html": [
       "<div>\n",
       "<style scoped>\n",
       "    .dataframe tbody tr th:only-of-type {\n",
       "        vertical-align: middle;\n",
       "    }\n",
       "\n",
       "    .dataframe tbody tr th {\n",
       "        vertical-align: top;\n",
       "    }\n",
       "\n",
       "    .dataframe thead th {\n",
       "        text-align: right;\n",
       "    }\n",
       "</style>\n",
       "<table border=\"1\" class=\"dataframe\">\n",
       "  <thead>\n",
       "    <tr style=\"text-align: right;\">\n",
       "      <th></th>\n",
       "      <th>Request id</th>\n",
       "      <th>Pickup point</th>\n",
       "      <th>Driver id</th>\n",
       "      <th>Status</th>\n",
       "      <th>Request timestamp</th>\n",
       "      <th>Drop timestamp</th>\n",
       "    </tr>\n",
       "  </thead>\n",
       "  <tbody>\n",
       "    <tr>\n",
       "      <th>0</th>\n",
       "      <td>619</td>\n",
       "      <td>Airport</td>\n",
       "      <td>1.0</td>\n",
       "      <td>Trip Completed</td>\n",
       "      <td>11/7/2016 11:51</td>\n",
       "      <td>11/7/2016 13:00</td>\n",
       "    </tr>\n",
       "    <tr>\n",
       "      <th>1</th>\n",
       "      <td>867</td>\n",
       "      <td>Airport</td>\n",
       "      <td>1.0</td>\n",
       "      <td>Trip Completed</td>\n",
       "      <td>11/7/2016 17:57</td>\n",
       "      <td>11/7/2016 18:47</td>\n",
       "    </tr>\n",
       "    <tr>\n",
       "      <th>2</th>\n",
       "      <td>1807</td>\n",
       "      <td>City</td>\n",
       "      <td>1.0</td>\n",
       "      <td>Trip Completed</td>\n",
       "      <td>12/7/2016 9:17</td>\n",
       "      <td>12/7/2016 9:58</td>\n",
       "    </tr>\n",
       "    <tr>\n",
       "      <th>3</th>\n",
       "      <td>2532</td>\n",
       "      <td>Airport</td>\n",
       "      <td>1.0</td>\n",
       "      <td>Trip Completed</td>\n",
       "      <td>12/7/2016 21:08</td>\n",
       "      <td>12/7/2016 22:03</td>\n",
       "    </tr>\n",
       "    <tr>\n",
       "      <th>4</th>\n",
       "      <td>3112</td>\n",
       "      <td>City</td>\n",
       "      <td>1.0</td>\n",
       "      <td>Trip Completed</td>\n",
       "      <td>13-07-2016 08:33:16</td>\n",
       "      <td>13-07-2016 09:25:47</td>\n",
       "    </tr>\n",
       "  </tbody>\n",
       "</table>\n",
       "</div>"
      ],
      "text/plain": [
       "   Request id Pickup point  Driver id          Status    Request timestamp  \\\n",
       "0         619      Airport        1.0  Trip Completed      11/7/2016 11:51   \n",
       "1         867      Airport        1.0  Trip Completed      11/7/2016 17:57   \n",
       "2        1807         City        1.0  Trip Completed       12/7/2016 9:17   \n",
       "3        2532      Airport        1.0  Trip Completed      12/7/2016 21:08   \n",
       "4        3112         City        1.0  Trip Completed  13-07-2016 08:33:16   \n",
       "\n",
       "        Drop timestamp  \n",
       "0      11/7/2016 13:00  \n",
       "1      11/7/2016 18:47  \n",
       "2       12/7/2016 9:58  \n",
       "3      12/7/2016 22:03  \n",
       "4  13-07-2016 09:25:47  "
      ]
     },
     "execution_count": 62,
     "metadata": {},
     "output_type": "execute_result"
    }
   ],
   "source": [
    "df = pd.read_csv('Uber Request Data.csv')\n",
    "df.head()"
   ]
  },
  {
   "cell_type": "markdown",
   "id": "011d01cf",
   "metadata": {},
   "source": [
    "### Data Cleaning"
   ]
  },
  {
   "cell_type": "code",
   "execution_count": 63,
   "id": "a789fa2c",
   "metadata": {},
   "outputs": [
    {
     "data": {
      "text/plain": [
       "True"
      ]
     },
     "execution_count": 63,
     "metadata": {},
     "output_type": "execute_result"
    }
   ],
   "source": [
    "# Checking if there are any duplicate ids\n",
    "\n",
    "sum(df.duplicated('Request id')) == 0"
   ]
  },
  {
   "cell_type": "code",
   "execution_count": 64,
   "id": "4d1b22ee",
   "metadata": {},
   "outputs": [
    {
     "name": "stdout",
     "output_type": "stream",
     "text": [
      "<class 'pandas.core.frame.DataFrame'>\n",
      "RangeIndex: 6745 entries, 0 to 6744\n",
      "Data columns (total 6 columns):\n",
      " #   Column             Non-Null Count  Dtype  \n",
      "---  ------             --------------  -----  \n",
      " 0   Request id         6745 non-null   int64  \n",
      " 1   Pickup point       6745 non-null   object \n",
      " 2   Driver id          4095 non-null   float64\n",
      " 3   Status             6745 non-null   object \n",
      " 4   Request timestamp  6745 non-null   object \n",
      " 5   Drop timestamp     2831 non-null   object \n",
      "dtypes: float64(1), int64(1), object(4)\n",
      "memory usage: 316.3+ KB\n"
     ]
    }
   ],
   "source": [
    "# Checking the data types of columns\n",
    "\n",
    "df.info()"
   ]
  },
  {
   "cell_type": "code",
   "execution_count": 65,
   "id": "46936847",
   "metadata": {},
   "outputs": [
    {
     "data": {
      "text/plain": [
       "Request id              0\n",
       "Pickup point            0\n",
       "Driver id            2650\n",
       "Status                  0\n",
       "Request timestamp       0\n",
       "Drop timestamp       3914\n",
       "dtype: int64"
      ]
     },
     "execution_count": 65,
     "metadata": {},
     "output_type": "execute_result"
    }
   ],
   "source": [
    "# Checking for null values\n",
    "\n",
    "df.isnull().sum()"
   ]
  },
  {
   "cell_type": "code",
   "execution_count": 66,
   "id": "e9cce675",
   "metadata": {},
   "outputs": [
    {
     "data": {
      "text/plain": [
       "(6745, 6)"
      ]
     },
     "execution_count": 66,
     "metadata": {},
     "output_type": "execute_result"
    }
   ],
   "source": [
    "# Shape of the data frame\n",
    "\n",
    "df.shape"
   ]
  },
  {
   "cell_type": "code",
   "execution_count": 67,
   "id": "7715f829",
   "metadata": {},
   "outputs": [
    {
     "data": {
      "text/plain": [
       "Request id            0.00\n",
       "Pickup point          0.00\n",
       "Driver id            39.29\n",
       "Status                0.00\n",
       "Request timestamp     0.00\n",
       "Drop timestamp       58.03\n",
       "dtype: float64"
      ]
     },
     "execution_count": 67,
     "metadata": {},
     "output_type": "execute_result"
    }
   ],
   "source": [
    "# Checking the percentage of missing values to see that if we can drop them or impute them\n",
    "\n",
    "round((df.isnull().sum()/len(df))*100,2)\n",
    "\n",
    "# The Driver id and Drop timestamp columns might not be helpful in getting better insights from the data so we can ignore them."
   ]
  },
  {
   "cell_type": "markdown",
   "id": "60317963",
   "metadata": {},
   "source": [
    "### Deriving new columns for better understanding and to derive better insights"
   ]
  },
  {
   "cell_type": "code",
   "execution_count": 68,
   "id": "ed31b5af",
   "metadata": {},
   "outputs": [
    {
     "data": {
      "text/html": [
       "<div>\n",
       "<style scoped>\n",
       "    .dataframe tbody tr th:only-of-type {\n",
       "        vertical-align: middle;\n",
       "    }\n",
       "\n",
       "    .dataframe tbody tr th {\n",
       "        vertical-align: top;\n",
       "    }\n",
       "\n",
       "    .dataframe thead th {\n",
       "        text-align: right;\n",
       "    }\n",
       "</style>\n",
       "<table border=\"1\" class=\"dataframe\">\n",
       "  <thead>\n",
       "    <tr style=\"text-align: right;\">\n",
       "      <th></th>\n",
       "      <th>Request id</th>\n",
       "      <th>Pickup point</th>\n",
       "      <th>Driver id</th>\n",
       "      <th>Status</th>\n",
       "      <th>Request timestamp</th>\n",
       "      <th>Drop timestamp</th>\n",
       "      <th>Request_Date_Time</th>\n",
       "    </tr>\n",
       "  </thead>\n",
       "  <tbody>\n",
       "    <tr>\n",
       "      <th>0</th>\n",
       "      <td>619</td>\n",
       "      <td>Airport</td>\n",
       "      <td>1.0</td>\n",
       "      <td>Trip Completed</td>\n",
       "      <td>11/7/2016 11:51</td>\n",
       "      <td>11/7/2016 13:00</td>\n",
       "      <td>2016-11-07 11:51:00</td>\n",
       "    </tr>\n",
       "    <tr>\n",
       "      <th>1</th>\n",
       "      <td>867</td>\n",
       "      <td>Airport</td>\n",
       "      <td>1.0</td>\n",
       "      <td>Trip Completed</td>\n",
       "      <td>11/7/2016 17:57</td>\n",
       "      <td>11/7/2016 18:47</td>\n",
       "      <td>2016-11-07 17:57:00</td>\n",
       "    </tr>\n",
       "    <tr>\n",
       "      <th>2</th>\n",
       "      <td>1807</td>\n",
       "      <td>City</td>\n",
       "      <td>1.0</td>\n",
       "      <td>Trip Completed</td>\n",
       "      <td>12/7/2016 9:17</td>\n",
       "      <td>12/7/2016 9:58</td>\n",
       "      <td>2016-12-07 09:17:00</td>\n",
       "    </tr>\n",
       "    <tr>\n",
       "      <th>3</th>\n",
       "      <td>2532</td>\n",
       "      <td>Airport</td>\n",
       "      <td>1.0</td>\n",
       "      <td>Trip Completed</td>\n",
       "      <td>12/7/2016 21:08</td>\n",
       "      <td>12/7/2016 22:03</td>\n",
       "      <td>2016-12-07 21:08:00</td>\n",
       "    </tr>\n",
       "    <tr>\n",
       "      <th>4</th>\n",
       "      <td>3112</td>\n",
       "      <td>City</td>\n",
       "      <td>1.0</td>\n",
       "      <td>Trip Completed</td>\n",
       "      <td>13-07-2016 08:33:16</td>\n",
       "      <td>13-07-2016 09:25:47</td>\n",
       "      <td>2016-07-13 08:33:16</td>\n",
       "    </tr>\n",
       "  </tbody>\n",
       "</table>\n",
       "</div>"
      ],
      "text/plain": [
       "   Request id Pickup point  Driver id          Status    Request timestamp  \\\n",
       "0         619      Airport        1.0  Trip Completed      11/7/2016 11:51   \n",
       "1         867      Airport        1.0  Trip Completed      11/7/2016 17:57   \n",
       "2        1807         City        1.0  Trip Completed       12/7/2016 9:17   \n",
       "3        2532      Airport        1.0  Trip Completed      12/7/2016 21:08   \n",
       "4        3112         City        1.0  Trip Completed  13-07-2016 08:33:16   \n",
       "\n",
       "        Drop timestamp   Request_Date_Time  \n",
       "0      11/7/2016 13:00 2016-11-07 11:51:00  \n",
       "1      11/7/2016 18:47 2016-11-07 17:57:00  \n",
       "2       12/7/2016 9:58 2016-12-07 09:17:00  \n",
       "3      12/7/2016 22:03 2016-12-07 21:08:00  \n",
       "4  13-07-2016 09:25:47 2016-07-13 08:33:16  "
      ]
     },
     "execution_count": 68,
     "metadata": {},
     "output_type": "execute_result"
    }
   ],
   "source": [
    "# Converting Request timestamp column to Date time object format\n",
    "\n",
    "df['Request_Date_Time'] = pd.to_datetime(df['Request timestamp'])\n",
    "df.head()"
   ]
  },
  {
   "cell_type": "code",
   "execution_count": 69,
   "id": "d3826176",
   "metadata": {},
   "outputs": [
    {
     "data": {
      "text/html": [
       "<div>\n",
       "<style scoped>\n",
       "    .dataframe tbody tr th:only-of-type {\n",
       "        vertical-align: middle;\n",
       "    }\n",
       "\n",
       "    .dataframe tbody tr th {\n",
       "        vertical-align: top;\n",
       "    }\n",
       "\n",
       "    .dataframe thead th {\n",
       "        text-align: right;\n",
       "    }\n",
       "</style>\n",
       "<table border=\"1\" class=\"dataframe\">\n",
       "  <thead>\n",
       "    <tr style=\"text-align: right;\">\n",
       "      <th></th>\n",
       "      <th>Request id</th>\n",
       "      <th>Pickup point</th>\n",
       "      <th>Driver id</th>\n",
       "      <th>Status</th>\n",
       "      <th>Request timestamp</th>\n",
       "      <th>Drop timestamp</th>\n",
       "      <th>Request_Date_Time</th>\n",
       "      <th>Drop_Date_Time</th>\n",
       "    </tr>\n",
       "  </thead>\n",
       "  <tbody>\n",
       "    <tr>\n",
       "      <th>0</th>\n",
       "      <td>619</td>\n",
       "      <td>Airport</td>\n",
       "      <td>1.0</td>\n",
       "      <td>Trip Completed</td>\n",
       "      <td>11/7/2016 11:51</td>\n",
       "      <td>11/7/2016 13:00</td>\n",
       "      <td>2016-11-07 11:51:00</td>\n",
       "      <td>2016-11-07 13:00:00</td>\n",
       "    </tr>\n",
       "    <tr>\n",
       "      <th>1</th>\n",
       "      <td>867</td>\n",
       "      <td>Airport</td>\n",
       "      <td>1.0</td>\n",
       "      <td>Trip Completed</td>\n",
       "      <td>11/7/2016 17:57</td>\n",
       "      <td>11/7/2016 18:47</td>\n",
       "      <td>2016-11-07 17:57:00</td>\n",
       "      <td>2016-11-07 18:47:00</td>\n",
       "    </tr>\n",
       "    <tr>\n",
       "      <th>2</th>\n",
       "      <td>1807</td>\n",
       "      <td>City</td>\n",
       "      <td>1.0</td>\n",
       "      <td>Trip Completed</td>\n",
       "      <td>12/7/2016 9:17</td>\n",
       "      <td>12/7/2016 9:58</td>\n",
       "      <td>2016-12-07 09:17:00</td>\n",
       "      <td>2016-12-07 09:58:00</td>\n",
       "    </tr>\n",
       "    <tr>\n",
       "      <th>3</th>\n",
       "      <td>2532</td>\n",
       "      <td>Airport</td>\n",
       "      <td>1.0</td>\n",
       "      <td>Trip Completed</td>\n",
       "      <td>12/7/2016 21:08</td>\n",
       "      <td>12/7/2016 22:03</td>\n",
       "      <td>2016-12-07 21:08:00</td>\n",
       "      <td>2016-12-07 22:03:00</td>\n",
       "    </tr>\n",
       "    <tr>\n",
       "      <th>4</th>\n",
       "      <td>3112</td>\n",
       "      <td>City</td>\n",
       "      <td>1.0</td>\n",
       "      <td>Trip Completed</td>\n",
       "      <td>13-07-2016 08:33:16</td>\n",
       "      <td>13-07-2016 09:25:47</td>\n",
       "      <td>2016-07-13 08:33:16</td>\n",
       "      <td>2016-07-13 09:25:47</td>\n",
       "    </tr>\n",
       "  </tbody>\n",
       "</table>\n",
       "</div>"
      ],
      "text/plain": [
       "   Request id Pickup point  Driver id          Status    Request timestamp  \\\n",
       "0         619      Airport        1.0  Trip Completed      11/7/2016 11:51   \n",
       "1         867      Airport        1.0  Trip Completed      11/7/2016 17:57   \n",
       "2        1807         City        1.0  Trip Completed       12/7/2016 9:17   \n",
       "3        2532      Airport        1.0  Trip Completed      12/7/2016 21:08   \n",
       "4        3112         City        1.0  Trip Completed  13-07-2016 08:33:16   \n",
       "\n",
       "        Drop timestamp   Request_Date_Time      Drop_Date_Time  \n",
       "0      11/7/2016 13:00 2016-11-07 11:51:00 2016-11-07 13:00:00  \n",
       "1      11/7/2016 18:47 2016-11-07 17:57:00 2016-11-07 18:47:00  \n",
       "2       12/7/2016 9:58 2016-12-07 09:17:00 2016-12-07 09:58:00  \n",
       "3      12/7/2016 22:03 2016-12-07 21:08:00 2016-12-07 22:03:00  \n",
       "4  13-07-2016 09:25:47 2016-07-13 08:33:16 2016-07-13 09:25:47  "
      ]
     },
     "execution_count": 69,
     "metadata": {},
     "output_type": "execute_result"
    }
   ],
   "source": [
    "# Converting Drop timestamp to Date time object\n",
    "\n",
    "df['Drop_Date_Time'] = pd.to_datetime(df['Drop timestamp'])\n",
    "df.head()"
   ]
  },
  {
   "cell_type": "code",
   "execution_count": 70,
   "id": "b8ee04c7",
   "metadata": {},
   "outputs": [
    {
     "data": {
      "text/html": [
       "<div>\n",
       "<style scoped>\n",
       "    .dataframe tbody tr th:only-of-type {\n",
       "        vertical-align: middle;\n",
       "    }\n",
       "\n",
       "    .dataframe tbody tr th {\n",
       "        vertical-align: top;\n",
       "    }\n",
       "\n",
       "    .dataframe thead th {\n",
       "        text-align: right;\n",
       "    }\n",
       "</style>\n",
       "<table border=\"1\" class=\"dataframe\">\n",
       "  <thead>\n",
       "    <tr style=\"text-align: right;\">\n",
       "      <th></th>\n",
       "      <th>Request id</th>\n",
       "      <th>Pickup point</th>\n",
       "      <th>Driver id</th>\n",
       "      <th>Status</th>\n",
       "      <th>Request_Date_Time</th>\n",
       "      <th>Drop_Date_Time</th>\n",
       "    </tr>\n",
       "  </thead>\n",
       "  <tbody>\n",
       "    <tr>\n",
       "      <th>0</th>\n",
       "      <td>619</td>\n",
       "      <td>Airport</td>\n",
       "      <td>1.0</td>\n",
       "      <td>Trip Completed</td>\n",
       "      <td>2016-11-07 11:51:00</td>\n",
       "      <td>2016-11-07 13:00:00</td>\n",
       "    </tr>\n",
       "    <tr>\n",
       "      <th>1</th>\n",
       "      <td>867</td>\n",
       "      <td>Airport</td>\n",
       "      <td>1.0</td>\n",
       "      <td>Trip Completed</td>\n",
       "      <td>2016-11-07 17:57:00</td>\n",
       "      <td>2016-11-07 18:47:00</td>\n",
       "    </tr>\n",
       "    <tr>\n",
       "      <th>2</th>\n",
       "      <td>1807</td>\n",
       "      <td>City</td>\n",
       "      <td>1.0</td>\n",
       "      <td>Trip Completed</td>\n",
       "      <td>2016-12-07 09:17:00</td>\n",
       "      <td>2016-12-07 09:58:00</td>\n",
       "    </tr>\n",
       "    <tr>\n",
       "      <th>3</th>\n",
       "      <td>2532</td>\n",
       "      <td>Airport</td>\n",
       "      <td>1.0</td>\n",
       "      <td>Trip Completed</td>\n",
       "      <td>2016-12-07 21:08:00</td>\n",
       "      <td>2016-12-07 22:03:00</td>\n",
       "    </tr>\n",
       "    <tr>\n",
       "      <th>4</th>\n",
       "      <td>3112</td>\n",
       "      <td>City</td>\n",
       "      <td>1.0</td>\n",
       "      <td>Trip Completed</td>\n",
       "      <td>2016-07-13 08:33:16</td>\n",
       "      <td>2016-07-13 09:25:47</td>\n",
       "    </tr>\n",
       "  </tbody>\n",
       "</table>\n",
       "</div>"
      ],
      "text/plain": [
       "   Request id Pickup point  Driver id          Status   Request_Date_Time  \\\n",
       "0         619      Airport        1.0  Trip Completed 2016-11-07 11:51:00   \n",
       "1         867      Airport        1.0  Trip Completed 2016-11-07 17:57:00   \n",
       "2        1807         City        1.0  Trip Completed 2016-12-07 09:17:00   \n",
       "3        2532      Airport        1.0  Trip Completed 2016-12-07 21:08:00   \n",
       "4        3112         City        1.0  Trip Completed 2016-07-13 08:33:16   \n",
       "\n",
       "       Drop_Date_Time  \n",
       "0 2016-11-07 13:00:00  \n",
       "1 2016-11-07 18:47:00  \n",
       "2 2016-12-07 09:58:00  \n",
       "3 2016-12-07 22:03:00  \n",
       "4 2016-07-13 09:25:47  "
      ]
     },
     "execution_count": 70,
     "metadata": {},
     "output_type": "execute_result"
    }
   ],
   "source": [
    "# dropping the Request timestamp and Drop timestamp columns as they were of no use\n",
    "\n",
    "df.drop('Request timestamp', axis = 1, inplace = True)\n",
    "df.drop('Drop timestamp', axis = 1, inplace = True)\n",
    "df.head()"
   ]
  },
  {
   "cell_type": "code",
   "execution_count": 71,
   "id": "e408e524",
   "metadata": {},
   "outputs": [
    {
     "name": "stdout",
     "output_type": "stream",
     "text": [
      "<class 'pandas.core.frame.DataFrame'>\n",
      "RangeIndex: 6745 entries, 0 to 6744\n",
      "Data columns (total 6 columns):\n",
      " #   Column             Non-Null Count  Dtype         \n",
      "---  ------             --------------  -----         \n",
      " 0   Request id         6745 non-null   int64         \n",
      " 1   Pickup point       6745 non-null   object        \n",
      " 2   Driver id          4095 non-null   float64       \n",
      " 3   Status             6745 non-null   object        \n",
      " 4   Request_Date_Time  6745 non-null   datetime64[ns]\n",
      " 5   Drop_Date_Time     2831 non-null   datetime64[ns]\n",
      "dtypes: datetime64[ns](2), float64(1), int64(1), object(2)\n",
      "memory usage: 316.3+ KB\n"
     ]
    }
   ],
   "source": [
    "# Checking the other data types\n",
    "\n",
    "df.info()"
   ]
  },
  {
   "cell_type": "code",
   "execution_count": 72,
   "id": "6a011262",
   "metadata": {},
   "outputs": [],
   "source": [
    "# Seperating hourly data for timely view of status data\n",
    "\n",
    "df['Request_time'] = pd.DatetimeIndex(df['Request_Date_Time']).hour\n"
   ]
  },
  {
   "cell_type": "code",
   "execution_count": 73,
   "id": "123b658a",
   "metadata": {},
   "outputs": [
    {
     "data": {
      "text/html": [
       "<div>\n",
       "<style scoped>\n",
       "    .dataframe tbody tr th:only-of-type {\n",
       "        vertical-align: middle;\n",
       "    }\n",
       "\n",
       "    .dataframe tbody tr th {\n",
       "        vertical-align: top;\n",
       "    }\n",
       "\n",
       "    .dataframe thead th {\n",
       "        text-align: right;\n",
       "    }\n",
       "</style>\n",
       "<table border=\"1\" class=\"dataframe\">\n",
       "  <thead>\n",
       "    <tr style=\"text-align: right;\">\n",
       "      <th></th>\n",
       "      <th>Request id</th>\n",
       "      <th>Pickup point</th>\n",
       "      <th>Driver id</th>\n",
       "      <th>Status</th>\n",
       "      <th>Request_Date_Time</th>\n",
       "      <th>Drop_Date_Time</th>\n",
       "      <th>Request_time</th>\n",
       "      <th>Request_day</th>\n",
       "    </tr>\n",
       "  </thead>\n",
       "  <tbody>\n",
       "    <tr>\n",
       "      <th>0</th>\n",
       "      <td>619</td>\n",
       "      <td>Airport</td>\n",
       "      <td>1.0</td>\n",
       "      <td>Trip Completed</td>\n",
       "      <td>2016-11-07 11:51:00</td>\n",
       "      <td>2016-11-07 13:00:00</td>\n",
       "      <td>11</td>\n",
       "      <td>7</td>\n",
       "    </tr>\n",
       "    <tr>\n",
       "      <th>1</th>\n",
       "      <td>867</td>\n",
       "      <td>Airport</td>\n",
       "      <td>1.0</td>\n",
       "      <td>Trip Completed</td>\n",
       "      <td>2016-11-07 17:57:00</td>\n",
       "      <td>2016-11-07 18:47:00</td>\n",
       "      <td>17</td>\n",
       "      <td>7</td>\n",
       "    </tr>\n",
       "    <tr>\n",
       "      <th>2</th>\n",
       "      <td>1807</td>\n",
       "      <td>City</td>\n",
       "      <td>1.0</td>\n",
       "      <td>Trip Completed</td>\n",
       "      <td>2016-12-07 09:17:00</td>\n",
       "      <td>2016-12-07 09:58:00</td>\n",
       "      <td>9</td>\n",
       "      <td>7</td>\n",
       "    </tr>\n",
       "    <tr>\n",
       "      <th>3</th>\n",
       "      <td>2532</td>\n",
       "      <td>Airport</td>\n",
       "      <td>1.0</td>\n",
       "      <td>Trip Completed</td>\n",
       "      <td>2016-12-07 21:08:00</td>\n",
       "      <td>2016-12-07 22:03:00</td>\n",
       "      <td>21</td>\n",
       "      <td>7</td>\n",
       "    </tr>\n",
       "    <tr>\n",
       "      <th>4</th>\n",
       "      <td>3112</td>\n",
       "      <td>City</td>\n",
       "      <td>1.0</td>\n",
       "      <td>Trip Completed</td>\n",
       "      <td>2016-07-13 08:33:16</td>\n",
       "      <td>2016-07-13 09:25:47</td>\n",
       "      <td>8</td>\n",
       "      <td>13</td>\n",
       "    </tr>\n",
       "  </tbody>\n",
       "</table>\n",
       "</div>"
      ],
      "text/plain": [
       "   Request id Pickup point  Driver id          Status   Request_Date_Time  \\\n",
       "0         619      Airport        1.0  Trip Completed 2016-11-07 11:51:00   \n",
       "1         867      Airport        1.0  Trip Completed 2016-11-07 17:57:00   \n",
       "2        1807         City        1.0  Trip Completed 2016-12-07 09:17:00   \n",
       "3        2532      Airport        1.0  Trip Completed 2016-12-07 21:08:00   \n",
       "4        3112         City        1.0  Trip Completed 2016-07-13 08:33:16   \n",
       "\n",
       "       Drop_Date_Time  Request_time  Request_day  \n",
       "0 2016-11-07 13:00:00            11            7  \n",
       "1 2016-11-07 18:47:00            17            7  \n",
       "2 2016-12-07 09:58:00             9            7  \n",
       "3 2016-12-07 22:03:00            21            7  \n",
       "4 2016-07-13 09:25:47             8           13  "
      ]
     },
     "execution_count": 73,
     "metadata": {},
     "output_type": "execute_result"
    }
   ],
   "source": [
    "# Extracting Day column\n",
    "\n",
    "df['Request_day'] = pd.DatetimeIndex(df['Request_Date_Time']).day\n",
    "df.head()"
   ]
  },
  {
   "cell_type": "code",
   "execution_count": 74,
   "id": "72bff025",
   "metadata": {},
   "outputs": [
    {
     "data": {
      "text/html": [
       "<div>\n",
       "<style scoped>\n",
       "    .dataframe tbody tr th:only-of-type {\n",
       "        vertical-align: middle;\n",
       "    }\n",
       "\n",
       "    .dataframe tbody tr th {\n",
       "        vertical-align: top;\n",
       "    }\n",
       "\n",
       "    .dataframe thead th {\n",
       "        text-align: right;\n",
       "    }\n",
       "</style>\n",
       "<table border=\"1\" class=\"dataframe\">\n",
       "  <thead>\n",
       "    <tr style=\"text-align: right;\">\n",
       "      <th></th>\n",
       "      <th>Pickup point</th>\n",
       "      <th>Status</th>\n",
       "      <th>Request_Date_Time</th>\n",
       "      <th>Request_time</th>\n",
       "      <th>Request_day</th>\n",
       "    </tr>\n",
       "  </thead>\n",
       "  <tbody>\n",
       "    <tr>\n",
       "      <th>0</th>\n",
       "      <td>Airport</td>\n",
       "      <td>Trip Completed</td>\n",
       "      <td>2016-11-07 11:51:00</td>\n",
       "      <td>11</td>\n",
       "      <td>7</td>\n",
       "    </tr>\n",
       "    <tr>\n",
       "      <th>1</th>\n",
       "      <td>Airport</td>\n",
       "      <td>Trip Completed</td>\n",
       "      <td>2016-11-07 17:57:00</td>\n",
       "      <td>17</td>\n",
       "      <td>7</td>\n",
       "    </tr>\n",
       "    <tr>\n",
       "      <th>2</th>\n",
       "      <td>City</td>\n",
       "      <td>Trip Completed</td>\n",
       "      <td>2016-12-07 09:17:00</td>\n",
       "      <td>9</td>\n",
       "      <td>7</td>\n",
       "    </tr>\n",
       "    <tr>\n",
       "      <th>3</th>\n",
       "      <td>Airport</td>\n",
       "      <td>Trip Completed</td>\n",
       "      <td>2016-12-07 21:08:00</td>\n",
       "      <td>21</td>\n",
       "      <td>7</td>\n",
       "    </tr>\n",
       "    <tr>\n",
       "      <th>4</th>\n",
       "      <td>City</td>\n",
       "      <td>Trip Completed</td>\n",
       "      <td>2016-07-13 08:33:16</td>\n",
       "      <td>8</td>\n",
       "      <td>13</td>\n",
       "    </tr>\n",
       "  </tbody>\n",
       "</table>\n",
       "</div>"
      ],
      "text/plain": [
       "  Pickup point          Status   Request_Date_Time  Request_time  Request_day\n",
       "0      Airport  Trip Completed 2016-11-07 11:51:00            11            7\n",
       "1      Airport  Trip Completed 2016-11-07 17:57:00            17            7\n",
       "2         City  Trip Completed 2016-12-07 09:17:00             9            7\n",
       "3      Airport  Trip Completed 2016-12-07 21:08:00            21            7\n",
       "4         City  Trip Completed 2016-07-13 08:33:16             8           13"
      ]
     },
     "execution_count": 74,
     "metadata": {},
     "output_type": "execute_result"
    }
   ],
   "source": [
    "# Removing unnecessary columns to reduce the complexity of data\n",
    "\n",
    "df.drop(['Request id','Driver id', 'Drop_Date_Time'], axis=1, inplace = True)\n",
    "df.head()"
   ]
  },
  {
   "cell_type": "code",
   "execution_count": 75,
   "id": "76ca8041",
   "metadata": {},
   "outputs": [
    {
     "data": {
      "text/plain": [
       "City       3507\n",
       "Airport    3238\n",
       "Name: Pickup point, dtype: int64"
      ]
     },
     "execution_count": 75,
     "metadata": {},
     "output_type": "execute_result"
    }
   ],
   "source": [
    "# Numerical value count of pickup points\n",
    "\n",
    "df['Pickup point'].value_counts()"
   ]
  },
  {
   "cell_type": "code",
   "execution_count": 76,
   "id": "eba74584",
   "metadata": {},
   "outputs": [
    {
     "data": {
      "text/plain": [
       "<AxesSubplot:>"
      ]
     },
     "execution_count": 76,
     "metadata": {},
     "output_type": "execute_result"
    },
    {
     "data": {
      "image/png": "[encoded data removed]",
      "text/plain": [
       "<Figure size 432x288 with 1 Axes>"
      ]
     },
     "metadata": {
      "needs_background": "light"
     },
     "output_type": "display_data"
    }
   ],
   "source": [
    "# Plotting the pickup points based on value counts\n",
    "\n",
    "pickup_point_count = df['Pickup point'].value_counts()\n",
    "pickup_point_count.plot.bar(width=0.2)"
   ]
  },
  {
   "cell_type": "code",
   "execution_count": 77,
   "id": "33af1b51",
   "metadata": {},
   "outputs": [
    {
     "data": {
      "text/plain": [
       "Trip Completed       2831\n",
       "No Cars Available    2650\n",
       "Cancelled            1264\n",
       "Name: Status, dtype: int64"
      ]
     },
     "execution_count": 77,
     "metadata": {},
     "output_type": "execute_result"
    }
   ],
   "source": [
    "# Comparing Demand and Supply- the trend seems to be almost same for Trip Completed and No Cars Available\n",
    "\n",
    "Status_counts= df['Status'].value_counts()\n",
    "Status_counts"
   ]
  },
  {
   "cell_type": "code",
   "execution_count": 78,
   "id": "e9ee076e",
   "metadata": {},
   "outputs": [
    {
     "data": {
      "text/plain": [
       "Trip Completed       41.971831\n",
       "No Cars Available    39.288362\n",
       "Cancelled            18.739807\n",
       "Name: Status, dtype: float64"
      ]
     },
     "execution_count": 78,
     "metadata": {},
     "output_type": "execute_result"
    }
   ],
   "source": [
    "# Normalization of Value_counts\n",
    "\n",
    "Percentage_Of_Status = df['Status'].value_counts(normalize= True)*100 \n",
    "Percentage_Of_Status"
   ]
  },
  {
   "cell_type": "code",
   "execution_count": 79,
   "id": "0dd7c636",
   "metadata": {},
   "outputs": [
    {
     "data": {
      "text/plain": [
       "3914"
      ]
     },
     "execution_count": 79,
     "metadata": {},
     "output_type": "execute_result"
    }
   ],
   "source": [
    "# Finding the Demand of cars\n",
    "\n",
    "Demand = Status_counts[1]+ Status_counts[2]  # We are unable to provide cars for the categories No Cars Available and Cancelled\n",
    "Demand"
   ]
  },
  {
   "cell_type": "code",
   "execution_count": 2,
   "id": "d4b4623f",
   "metadata": {},
   "outputs": [
    {
     "data": {
      "text/plain": [
       "6745"
      ]
     },
     "execution_count": 2,
     "metadata": {},
     "output_type": "execute_result"
    }
   ],
   "source": [
    "2831+2650+1264"
   ]
  },
  {
   "cell_type": "code",
   "execution_count": null,
   "id": "8815762f",
   "metadata": {},
   "outputs": [],
   "source": [
    "6745"
   ]
  },
  {
   "cell_type": "code",
   "execution_count": 80,
   "id": "5e631a0d",
   "metadata": {},
   "outputs": [
    {
     "data": {
      "text/plain": [
       "2831"
      ]
     },
     "execution_count": 80,
     "metadata": {},
     "output_type": "execute_result"
    }
   ],
   "source": [
    "# Finding the Supply\n",
    "\n",
    "Supply = Status_counts[0]  # Trip Completed comes under Supply category as we are providing cars to these rides\n",
    "Supply"
   ]
  },
  {
   "cell_type": "code",
   "execution_count": 81,
   "id": "96acacff",
   "metadata": {},
   "outputs": [
    {
     "data": {
      "text/plain": [
       "1083"
      ]
     },
     "execution_count": 81,
     "metadata": {},
     "output_type": "execute_result"
    }
   ],
   "source": [
    "Demand-Supply   # Gap in Demand and Supply"
   ]
  },
  {
   "cell_type": "code",
   "execution_count": 82,
   "id": "fc3689d5",
   "metadata": {},
   "outputs": [
    {
     "data": {
      "text/plain": [
       "<seaborn.axisgrid.FacetGrid at 0x1bedc49f670>"
      ]
     },
     "execution_count": 82,
     "metadata": {},
     "output_type": "execute_result"
    },
    {
     "data": {
      "image/png": "[encoded data removed]",
      "text/plain": [
       "<Figure size 483.5x1440 with 4 Axes>"
      ]
     },
     "metadata": {
      "needs_background": "light"
     },
     "output_type": "display_data"
    }
   ],
   "source": [
    "# We need to look into the Status column, as it consists of trip information\n",
    "\n",
    "sns.factorplot(data = df ,x= 'Request_time', hue = 'Status', row = 'Request_day', kind= 'count')"
   ]
  },
  {
   "cell_type": "code",
   "execution_count": 83,
   "id": "5dd06141",
   "metadata": {},
   "outputs": [
    {
     "data": {
      "text/plain": [
       "<seaborn.axisgrid.FacetGrid at 0x1bedc9d8070>"
      ]
     },
     "execution_count": 83,
     "metadata": {},
     "output_type": "execute_result"
    },
    {
     "data": {
      "image/png": "[encoded data removed]",
      "text/plain": [
       "<Figure size 430.125x1440 with 4 Axes>"
      ]
     },
     "metadata": {
      "needs_background": "light"
     },
     "output_type": "display_data"
    }
   ],
   "source": [
    "# Request_time and Request_day with respect to Pickup point\n",
    "\n",
    "sns.factorplot(data = df ,x= 'Request_time', hue = 'Pickup point', row = 'Request_day', kind= 'count')"
   ]
  },
  {
   "cell_type": "code",
   "execution_count": 84,
   "id": "05462699",
   "metadata": {},
   "outputs": [],
   "source": [
    "\n",
    "def time_period(x):\n",
    "    if x < 5:\n",
    "        return 'Early Morning'\n",
    "    elif  5 <= x < 10:\n",
    "        return 'Morning'\n",
    "    elif 10 < x < 12:\n",
    "        return 'Daytime'\n",
    "    elif 12 <= x < 17:\n",
    "        return 'Afternoon'\n",
    "    elif 17 <= x < 22:\n",
    "        return 'Evening'\n",
    "    else:\n",
    "        return 'Night'"
   ]
  },
  {
   "cell_type": "code",
   "execution_count": 85,
   "id": "93f393ff",
   "metadata": {},
   "outputs": [],
   "source": [
    "df['Time_Slot']= df['Request_time'].apply(time_period)"
   ]
  },
  {
   "cell_type": "code",
   "execution_count": 86,
   "id": "e60176e6",
   "metadata": {},
   "outputs": [
    {
     "data": {
      "text/html": [
       "<div>\n",
       "<style scoped>\n",
       "    .dataframe tbody tr th:only-of-type {\n",
       "        vertical-align: middle;\n",
       "    }\n",
       "\n",
       "    .dataframe tbody tr th {\n",
       "        vertical-align: top;\n",
       "    }\n",
       "\n",
       "    .dataframe thead th {\n",
       "        text-align: right;\n",
       "    }\n",
       "</style>\n",
       "<table border=\"1\" class=\"dataframe\">\n",
       "  <thead>\n",
       "    <tr style=\"text-align: right;\">\n",
       "      <th></th>\n",
       "      <th>Pickup point</th>\n",
       "      <th>Status</th>\n",
       "      <th>Request_Date_Time</th>\n",
       "      <th>Request_time</th>\n",
       "      <th>Request_day</th>\n",
       "      <th>Time_Slot</th>\n",
       "    </tr>\n",
       "  </thead>\n",
       "  <tbody>\n",
       "    <tr>\n",
       "      <th>0</th>\n",
       "      <td>Airport</td>\n",
       "      <td>Trip Completed</td>\n",
       "      <td>2016-11-07 11:51:00</td>\n",
       "      <td>11</td>\n",
       "      <td>7</td>\n",
       "      <td>Daytime</td>\n",
       "    </tr>\n",
       "    <tr>\n",
       "      <th>1</th>\n",
       "      <td>Airport</td>\n",
       "      <td>Trip Completed</td>\n",
       "      <td>2016-11-07 17:57:00</td>\n",
       "      <td>17</td>\n",
       "      <td>7</td>\n",
       "      <td>Evening</td>\n",
       "    </tr>\n",
       "    <tr>\n",
       "      <th>2</th>\n",
       "      <td>City</td>\n",
       "      <td>Trip Completed</td>\n",
       "      <td>2016-12-07 09:17:00</td>\n",
       "      <td>9</td>\n",
       "      <td>7</td>\n",
       "      <td>Morning</td>\n",
       "    </tr>\n",
       "    <tr>\n",
       "      <th>3</th>\n",
       "      <td>Airport</td>\n",
       "      <td>Trip Completed</td>\n",
       "      <td>2016-12-07 21:08:00</td>\n",
       "      <td>21</td>\n",
       "      <td>7</td>\n",
       "      <td>Evening</td>\n",
       "    </tr>\n",
       "    <tr>\n",
       "      <th>4</th>\n",
       "      <td>City</td>\n",
       "      <td>Trip Completed</td>\n",
       "      <td>2016-07-13 08:33:16</td>\n",
       "      <td>8</td>\n",
       "      <td>13</td>\n",
       "      <td>Morning</td>\n",
       "    </tr>\n",
       "  </tbody>\n",
       "</table>\n",
       "</div>"
      ],
      "text/plain": [
       "  Pickup point          Status   Request_Date_Time  Request_time  Request_day  \\\n",
       "0      Airport  Trip Completed 2016-11-07 11:51:00            11            7   \n",
       "1      Airport  Trip Completed 2016-11-07 17:57:00            17            7   \n",
       "2         City  Trip Completed 2016-12-07 09:17:00             9            7   \n",
       "3      Airport  Trip Completed 2016-12-07 21:08:00            21            7   \n",
       "4         City  Trip Completed 2016-07-13 08:33:16             8           13   \n",
       "\n",
       "  Time_Slot  \n",
       "0   Daytime  \n",
       "1   Evening  \n",
       "2   Morning  \n",
       "3   Evening  \n",
       "4   Morning  "
      ]
     },
     "execution_count": 86,
     "metadata": {},
     "output_type": "execute_result"
    }
   ],
   "source": [
    "df.head()"
   ]
  },
  {
   "cell_type": "code",
   "execution_count": 87,
   "id": "5f08b06a",
   "metadata": {},
   "outputs": [
    {
     "data": {
      "text/plain": [
       "Evening          2342\n",
       "Morning          2103\n",
       "Afternoon         810\n",
       "Night             741\n",
       "Early Morning     578\n",
       "Daytime           171\n",
       "Name: Time_Slot, dtype: int64"
      ]
     },
     "execution_count": 87,
     "metadata": {},
     "output_type": "execute_result"
    }
   ],
   "source": [
    "# Getting counts for each time slot\n",
    "\n",
    "df['Time_Slot'].value_counts()"
   ]
  },
  {
   "cell_type": "code",
   "execution_count": 88,
   "id": "9beb0523",
   "metadata": {},
   "outputs": [
    {
     "data": {
      "text/plain": [
       "<AxesSubplot:>"
      ]
     },
     "execution_count": 88,
     "metadata": {},
     "output_type": "execute_result"
    },
    {
     "data": {
      "image/png": "[encoded data removed]",
      "text/plain": [
       "<Figure size 432x288 with 1 Axes>"
      ]
     },
     "metadata": {
      "needs_background": "light"
     },
     "output_type": "display_data"
    }
   ],
   "source": [
    "# Plotting based on value counts of respective Time slots\n",
    "\n",
    "Time_slots = df['Time_Slot'].value_counts()\n",
    "\n",
    "Time_slots.plot.bar( width = 0.8)"
   ]
  },
  {
   "cell_type": "code",
   "execution_count": 89,
   "id": "a41987cf",
   "metadata": {},
   "outputs": [
    {
     "data": {
      "image/png": "[encoded data removed]",
      "text/plain": [
       "<Figure size 432x288 with 1 Axes>"
      ]
     },
     "metadata": {
      "needs_background": "light"
     },
     "output_type": "display_data"
    }
   ],
   "source": [
    "# Plotting Time_Slot with status to get Time based view\n",
    "\n",
    "sns.countplot(data= df, x= 'Time_Slot', hue = 'Status')\n",
    "plt.xticks(rotation=90)\n",
    "plt.show()"
   ]
  },
  {
   "cell_type": "code",
   "execution_count": 90,
   "id": "c6dc0023",
   "metadata": {},
   "outputs": [
    {
     "data": {
      "text/plain": [
       "<AxesSubplot:xlabel='Pickup point', ylabel='count'>"
      ]
     },
     "execution_count": 90,
     "metadata": {},
     "output_type": "execute_result"
    },
    {
     "data": {
      "image/png": "[encoded data removed]",
      "text/plain": [
       "<Figure size 432x288 with 1 Axes>"
      ]
     },
     "metadata": {
      "needs_background": "light"
     },
     "output_type": "display_data"
    }
   ],
   "source": [
    "# To find which pickup point has rush with respect to time slots\n",
    "\n",
    "sns.countplot(data= df, x= 'Pickup point', hue = 'Time_Slot')"
   ]
  },
  {
   "cell_type": "code",
   "execution_count": 91,
   "id": "0223a7dd",
   "metadata": {},
   "outputs": [
    {
     "data": {
      "image/png": "[encoded data removed]",
      "text/plain": [
       "<Figure size 432x288 with 1 Axes>"
      ]
     },
     "metadata": {
      "needs_background": "light"
     },
     "output_type": "display_data"
    }
   ],
   "source": [
    "# Observing the trend of Status with respect to Time_Slots \n",
    "\n",
    "fig = sns.countplot(data = df, x='Status', hue = 'Time_Slot')\n",
    "fig.legend(bbox_to_anchor=(1.2,1))\n",
    "plt.show()"
   ]
  },
  {
   "cell_type": "code",
   "execution_count": 92,
   "id": "f7356c72",
   "metadata": {},
   "outputs": [],
   "source": [
    "# We saw a heavy rush in the morning time, So plotting \n",
    "\n",
    "Morning_data = df[df['Time_Slot'] == 'Morning']"
   ]
  },
  {
   "cell_type": "code",
   "execution_count": 93,
   "id": "4299bcb0",
   "metadata": {},
   "outputs": [
    {
     "data": {
      "text/plain": [
       "<AxesSubplot:xlabel='Pickup point', ylabel='count'>"
      ]
     },
     "execution_count": 93,
     "metadata": {},
     "output_type": "execute_result"
    },
    {
     "data": {
      "image/png": "[encoded data removed]",
      "text/plain": [
       "<Figure size 432x288 with 1 Axes>"
      ]
     },
     "metadata": {
      "needs_background": "light"
     },
     "output_type": "display_data"
    }
   ],
   "source": [
    "# Plotting Morning_data to observe the trend based on Status column\n",
    "\n",
    "sns.countplot(data= Morning_data, x= 'Pickup point', hue = 'Status')"
   ]
  },
  {
   "cell_type": "markdown",
   "id": "92409445",
   "metadata": {},
   "source": [
    "#### Trip Cancellation is high in City for Morning"
   ]
  },
  {
   "cell_type": "code",
   "execution_count": 94,
   "id": "73939736",
   "metadata": {},
   "outputs": [],
   "source": [
    "# We saw almost same rush in the evening time, So plotting \n",
    "\n",
    "Evening_data = df[df['Time_Slot'] == 'Evening']"
   ]
  },
  {
   "cell_type": "code",
   "execution_count": 95,
   "id": "5d1b0db7",
   "metadata": {},
   "outputs": [
    {
     "data": {
      "text/plain": [
       "<AxesSubplot:xlabel='Pickup point', ylabel='count'>"
      ]
     },
     "execution_count": 95,
     "metadata": {},
     "output_type": "execute_result"
    },
    {
     "data": {
      "image/png": "[encoded data removed]",
      "text/plain": [
       "<Figure size 432x288 with 1 Axes>"
      ]
     },
     "metadata": {
      "needs_background": "light"
     },
     "output_type": "display_data"
    }
   ],
   "source": [
    "# Plotting Evening_data to observe the trend based on Status column\n",
    "\n",
    "sns.countplot(data= Evening_data, x= 'Pickup point', hue = 'Status')"
   ]
  },
  {
   "cell_type": "markdown",
   "id": "a6cf509e",
   "metadata": {},
   "source": [
    "#### No Car Availability is high in evening time for Airport and less for City"
   ]
  },
  {
   "cell_type": "code",
   "execution_count": 96,
   "id": "27926583",
   "metadata": {
    "scrolled": true
   },
   "outputs": [
    {
     "data": {
      "image/png": "[encoded data removed]",
      "text/plain": [
       "<Figure size 432x288 with 1 Axes>"
      ]
     },
     "metadata": {
      "needs_background": "light"
     },
     "output_type": "display_data"
    }
   ],
   "source": [
    "# Observing the flow of status based on value counts\n",
    "\n",
    "Status_count = df['Status'].value_counts()\n",
    "Status_count.plot.bar()\n",
    "plt.xticks(rotation = 0) \n",
    "plt.show()"
   ]
  },
  {
   "cell_type": "markdown",
   "id": "ebbc1f34",
   "metadata": {},
   "source": [
    "### Calculating Demand and Supply for Morning"
   ]
  },
  {
   "cell_type": "code",
   "execution_count": 97,
   "id": "5c6cdb94",
   "metadata": {},
   "outputs": [
    {
     "data": {
      "text/plain": [
       "23"
      ]
     },
     "execution_count": 97,
     "metadata": {},
     "output_type": "execute_result"
    }
   ],
   "source": [
    "# Seperating Cancelled Data for Airport\n",
    "\n",
    "Airport_cancelled_data = Morning_data.loc[(df['Pickup point']== 'Airport') & (df['Status']== 'Cancelled')] \n",
    "len(Airport_cancelled_data)"
   ]
  },
  {
   "cell_type": "code",
   "execution_count": 98,
   "id": "5abf47fe",
   "metadata": {},
   "outputs": [
    {
     "data": {
      "text/plain": [
       "820"
      ]
     },
     "execution_count": 98,
     "metadata": {},
     "output_type": "execute_result"
    }
   ],
   "source": [
    "# Finding cancelled cars in Morning from city\n",
    "\n",
    "City_cancelled_data = Morning_data.loc[(df['Pickup point']== 'City') & (df['Status']== 'Cancelled')] \n",
    "len(City_cancelled_data)"
   ]
  },
  {
   "cell_type": "code",
   "execution_count": 99,
   "id": "ea750799",
   "metadata": {},
   "outputs": [
    {
     "data": {
      "text/plain": [
       "472"
      ]
     },
     "execution_count": 99,
     "metadata": {},
     "output_type": "execute_result"
    }
   ],
   "source": [
    "# Finding the number of Trips Completed where pickup point is City\n",
    "\n",
    "City_completed_data = Morning_data.loc[(df['Pickup point']== 'City') & (df['Status']== 'Trip Completed')] \n",
    "len(City_completed_data)"
   ]
  },
  {
   "cell_type": "code",
   "execution_count": 100,
   "id": "b25709aa",
   "metadata": {},
   "outputs": [
    {
     "data": {
      "text/plain": [
       "1677"
      ]
     },
     "execution_count": 100,
     "metadata": {},
     "output_type": "execute_result"
    }
   ],
   "source": [
    "# Finding the number of Morning rides picked from city\n",
    "\n",
    "City_morning_data = Morning_data.loc[(df['Pickup point']== 'City')] \n",
    "len(City_morning_data)"
   ]
  },
  {
   "cell_type": "code",
   "execution_count": 101,
   "id": "5a6e0e1e",
   "metadata": {},
   "outputs": [
    {
     "data": {
      "text/plain": [
       "382"
      ]
     },
     "execution_count": 101,
     "metadata": {},
     "output_type": "execute_result"
    }
   ],
   "source": [
    "# Finding number of rides completed picked from Airport\n",
    "\n",
    "Airport_completed_data = Morning_data.loc[(df['Pickup point']== 'Airport') & (df['Status']== 'Trip Completed')] \n",
    "len(Airport_completed_data)"
   ]
  },
  {
   "cell_type": "code",
   "execution_count": 102,
   "id": "0a74c0c0",
   "metadata": {},
   "outputs": [
    {
     "data": {
      "text/plain": [
       "426"
      ]
     },
     "execution_count": 102,
     "metadata": {},
     "output_type": "execute_result"
    }
   ],
   "source": [
    "# Finding number of rides picked from Airport\n",
    "\n",
    "Airport_morning_data = Morning_data.loc[(df['Pickup point']== 'Airport')] \n",
    "len(Airport_morning_data)"
   ]
  },
  {
   "cell_type": "markdown",
   "id": "164eddc7",
   "metadata": {},
   "source": [
    "### Calculating Demand and Supply for Evening"
   ]
  },
  {
   "cell_type": "code",
   "execution_count": 103,
   "id": "d4d8af30",
   "metadata": {},
   "outputs": [
    {
     "data": {
      "text/html": [
       "<div>\n",
       "<style scoped>\n",
       "    .dataframe tbody tr th:only-of-type {\n",
       "        vertical-align: middle;\n",
       "    }\n",
       "\n",
       "    .dataframe tbody tr th {\n",
       "        vertical-align: top;\n",
       "    }\n",
       "\n",
       "    .dataframe thead th {\n",
       "        text-align: right;\n",
       "    }\n",
       "</style>\n",
       "<table border=\"1\" class=\"dataframe\">\n",
       "  <thead>\n",
       "    <tr style=\"text-align: right;\">\n",
       "      <th></th>\n",
       "      <th>Pickup point</th>\n",
       "      <th>Status</th>\n",
       "      <th>Request_Date_Time</th>\n",
       "      <th>Request_time</th>\n",
       "      <th>Request_day</th>\n",
       "      <th>Time_Slot</th>\n",
       "    </tr>\n",
       "  </thead>\n",
       "  <tbody>\n",
       "    <tr>\n",
       "      <th>1</th>\n",
       "      <td>Airport</td>\n",
       "      <td>Trip Completed</td>\n",
       "      <td>2016-11-07 17:57:00</td>\n",
       "      <td>17</td>\n",
       "      <td>7</td>\n",
       "      <td>Evening</td>\n",
       "    </tr>\n",
       "    <tr>\n",
       "      <th>3</th>\n",
       "      <td>Airport</td>\n",
       "      <td>Trip Completed</td>\n",
       "      <td>2016-12-07 21:08:00</td>\n",
       "      <td>21</td>\n",
       "      <td>7</td>\n",
       "      <td>Evening</td>\n",
       "    </tr>\n",
       "    <tr>\n",
       "      <th>5</th>\n",
       "      <td>Airport</td>\n",
       "      <td>Trip Completed</td>\n",
       "      <td>2016-07-13 21:57:28</td>\n",
       "      <td>21</td>\n",
       "      <td>13</td>\n",
       "      <td>Evening</td>\n",
       "    </tr>\n",
       "    <tr>\n",
       "      <th>8</th>\n",
       "      <td>City</td>\n",
       "      <td>Trip Completed</td>\n",
       "      <td>2016-07-15 17:57:27</td>\n",
       "      <td>17</td>\n",
       "      <td>15</td>\n",
       "      <td>Evening</td>\n",
       "    </tr>\n",
       "    <tr>\n",
       "      <th>15</th>\n",
       "      <td>Airport</td>\n",
       "      <td>Trip Completed</td>\n",
       "      <td>2016-07-13 17:23:18</td>\n",
       "      <td>17</td>\n",
       "      <td>13</td>\n",
       "      <td>Evening</td>\n",
       "    </tr>\n",
       "  </tbody>\n",
       "</table>\n",
       "</div>"
      ],
      "text/plain": [
       "   Pickup point          Status   Request_Date_Time  Request_time  \\\n",
       "1       Airport  Trip Completed 2016-11-07 17:57:00            17   \n",
       "3       Airport  Trip Completed 2016-12-07 21:08:00            21   \n",
       "5       Airport  Trip Completed 2016-07-13 21:57:28            21   \n",
       "8          City  Trip Completed 2016-07-15 17:57:27            17   \n",
       "15      Airport  Trip Completed 2016-07-13 17:23:18            17   \n",
       "\n",
       "    Request_day Time_Slot  \n",
       "1             7   Evening  \n",
       "3             7   Evening  \n",
       "5            13   Evening  \n",
       "8            15   Evening  \n",
       "15           13   Evening  "
      ]
     },
     "execution_count": 103,
     "metadata": {},
     "output_type": "execute_result"
    }
   ],
   "source": [
    "Evening_data.head()"
   ]
  },
  {
   "cell_type": "code",
   "execution_count": 104,
   "id": "78eaa6d5",
   "metadata": {},
   "outputs": [
    {
     "data": {
      "text/plain": [
       "106"
      ]
     },
     "execution_count": 104,
     "metadata": {},
     "output_type": "execute_result"
    }
   ],
   "source": [
    "# Getting the count of rides cancelled in evening picked from Airport\n",
    "\n",
    "Evng_Airport_cancelled_data = Evening_data.loc[(df['Pickup point']== 'Airport') & (df['Status']== 'Cancelled')] \n",
    "len(Evng_Airport_cancelled_data)"
   ]
  },
  {
   "cell_type": "code",
   "execution_count": 105,
   "id": "4bd6c30b",
   "metadata": {},
   "outputs": [
    {
     "data": {
      "text/plain": [
       "60"
      ]
     },
     "execution_count": 105,
     "metadata": {},
     "output_type": "execute_result"
    }
   ],
   "source": [
    "# Finding number of rides cancelled in evening picked from City\n",
    "\n",
    "Evng_City_cancelled_data = Evening_data.loc[(df['Pickup point']== 'City') & (df['Status']== 'Cancelled')] \n",
    "len(Evng_City_cancelled_data)"
   ]
  },
  {
   "cell_type": "code",
   "execution_count": 106,
   "id": "56d6157b",
   "metadata": {},
   "outputs": [
    {
     "data": {
      "text/plain": [
       "411"
      ]
     },
     "execution_count": 106,
     "metadata": {},
     "output_type": "execute_result"
    }
   ],
   "source": [
    "# Finding the number of rides completed that are picked from City\n",
    "\n",
    "Evng_City_completed_data = Evening_data.loc[(df['Pickup point']== 'City') & (df['Status']== 'Trip Completed')] \n",
    "len(Evng_City_completed_data)"
   ]
  },
  {
   "cell_type": "code",
   "execution_count": 107,
   "id": "0954f6b7",
   "metadata": {},
   "outputs": [
    {
     "data": {
      "text/plain": [
       "542"
      ]
     },
     "execution_count": 107,
     "metadata": {},
     "output_type": "execute_result"
    }
   ],
   "source": [
    "# Finding count of rides in city data for Evening\n",
    "\n",
    "Evng_City_data = Evening_data.loc[(df['Pickup point']== 'City')] \n",
    "len(Evng_City_data)"
   ]
  },
  {
   "cell_type": "code",
   "execution_count": 108,
   "id": "35ec525d",
   "metadata": {},
   "outputs": [
    {
     "data": {
      "text/plain": [
       "373"
      ]
     },
     "execution_count": 108,
     "metadata": {},
     "output_type": "execute_result"
    }
   ],
   "source": [
    "# Finding the number of completed rides picked from Airport\n",
    "\n",
    "Evng_Airport_completed_data = Evening_data.loc[(df['Pickup point']== 'Airport') & (df['Status']== 'Trip Completed')] \n",
    "len(Evng_Airport_completed_data)"
   ]
  },
  {
   "cell_type": "code",
   "execution_count": 109,
   "id": "b4dd7975",
   "metadata": {},
   "outputs": [
    {
     "data": {
      "text/plain": [
       "1800"
      ]
     },
     "execution_count": 109,
     "metadata": {},
     "output_type": "execute_result"
    }
   ],
   "source": [
    "# the number of rides picked from Airport\n",
    "\n",
    "Evng_Airport_data = Evening_data.loc[(df['Pickup point']== 'Airport')] \n",
    "len(Evng_Airport_data)"
   ]
  },
  {
   "cell_type": "code",
   "execution_count": 110,
   "id": "d0f2233b",
   "metadata": {},
   "outputs": [
    {
     "data": {
      "text/plain": [
       "21"
      ]
     },
     "execution_count": 110,
     "metadata": {},
     "output_type": "execute_result"
    }
   ],
   "source": [
    "# Finding the number of no cars available from Airport in the morning\n",
    "\n",
    "Morning_Airport_Unavail= Morning_data[(Morning_data['Pickup point'] == 'Airport') & (Morning_data['Status']== 'No Cars Available')]\n",
    "len(Morning_Airport_Unavail)"
   ]
  },
  {
   "cell_type": "code",
   "execution_count": 111,
   "id": "49500c23",
   "metadata": {},
   "outputs": [
    {
     "data": {
      "text/plain": [
       "385"
      ]
     },
     "execution_count": 111,
     "metadata": {},
     "output_type": "execute_result"
    }
   ],
   "source": [
    "#  Finding the number of no cars availability from City in the morning\n",
    "\n",
    "Morning_City_Unavail= Morning_data[(Morning_data['Pickup point'] == 'City') & (Morning_data['Status']== 'No Cars Available')]\n",
    "len(Morning_City_Unavail)"
   ]
  },
  {
   "cell_type": "code",
   "execution_count": 112,
   "id": "a1e2c3dd",
   "metadata": {},
   "outputs": [
    {
     "data": {
      "text/plain": [
       "1321"
      ]
     },
     "execution_count": 112,
     "metadata": {},
     "output_type": "execute_result"
    }
   ],
   "source": [
    "# Finding the number of cabs unavailable from Airport in the evening\n",
    "\n",
    "Evening_Airport_Unavail=Evening_data[(Evening_data['Pickup point'] == 'Airport') & (Evening_data['Status']== 'No Cars Available')]\n",
    "len(Evening_Airport_Unavail)"
   ]
  },
  {
   "cell_type": "code",
   "execution_count": 113,
   "id": "f5941fa3",
   "metadata": {},
   "outputs": [
    {
     "data": {
      "text/plain": [
       "71"
      ]
     },
     "execution_count": 113,
     "metadata": {},
     "output_type": "execute_result"
    }
   ],
   "source": [
    "# Finding the number of cars unavailable from City in the evening\n",
    "\n",
    "Evening_City_Unavail=Evening_data[(Evening_data['Pickup point'] == 'City') & (Evening_data['Status']== 'No Cars Available')]\n",
    "len(Evening_City_Unavail)"
   ]
  },
  {
   "cell_type": "code",
   "execution_count": 114,
   "id": "7f0d40b4",
   "metadata": {},
   "outputs": [],
   "source": [
    "# Creating pie_chart for reusability\n",
    "\n",
    "def pie_chart(dataframe):\n",
    "    labels = dataframe.index.values\n",
    "    sizes = dataframe['Status'].values\n",
    "    \n",
    "    fig1, ax1 = plt.subplots()\n",
    "    ax1.pie(sizes, labels=labels, autopct= '%.1f')\n",
    "    ax1.axis(\"equal\")\n",
    "    plt.show()"
   ]
  },
  {
   "cell_type": "code",
   "execution_count": 115,
   "id": "b005b8a5",
   "metadata": {},
   "outputs": [
    {
     "data": {
      "image/png": "[encoded data removed]",
      "text/plain": [
       "<Figure size 432x288 with 1 Axes>"
      ]
     },
     "metadata": {},
     "output_type": "display_data"
    }
   ],
   "source": [
    "# Trend of city data for Morning\n",
    "\n",
    "df_city = df.loc[ (df['Pickup point']==\"City\") & (df['Time_Slot']==\"Morning\")]\n",
    "df_city_counts = pd.DataFrame(df_city['Status'].value_counts())\n",
    "pie_chart(df_city_counts)\n"
   ]
  },
  {
   "cell_type": "code",
   "execution_count": 116,
   "id": "75ac0123",
   "metadata": {},
   "outputs": [
    {
     "data": {
      "image/png": "[encoded data removed]",
      "text/plain": [
       "<Figure size 432x288 with 1 Axes>"
      ]
     },
     "metadata": {},
     "output_type": "display_data"
    }
   ],
   "source": [
    "# Trend of Airport for Evening\n",
    "\n",
    "df_airport = df.loc[ (df['Pickup point']==\"Airport\") & (df['Time_Slot']==\"Evening\")]\n",
    "df_airport_counts = pd.DataFrame(df_airport['Status'].value_counts())\n",
    "pie_chart(df_airport_counts)"
   ]
  },
  {
   "cell_type": "code",
   "execution_count": null,
   "id": "82031b4b",
   "metadata": {},
   "outputs": [],
   "source": []
  }
 ],
 "metadata": {
  "kernelspec": {
   "display_name": "Python 3 (ipykernel)",
   "language": "python",
   "name": "python3"
  },
  "language_info": {
   "codemirror_mode": {
    "name": "ipython",
    "version": 3
   },
   "file_extension": ".py",
   "mimetype": "text/x-python",
   "name": "python",
   "nbconvert_exporter": "python",
   "pygments_lexer": "ipython3",
   "version": "3.11.3"
  }
 },
 "nbformat": 4,
 "nbformat_minor": 5
}
